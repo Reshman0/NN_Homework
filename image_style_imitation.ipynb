{
 "cells": [
  {
   "cell_type": "code",
   "execution_count": 3,
   "metadata": {},
   "outputs": [],
   "source": [
    "import os\n",
    "import cv2\n",
    "import torch\n",
    "from torch.utils.data import Dataset\n",
    "import numpy as np"
   ]
  },
  {
   "cell_type": "code",
   "execution_count": 4,
   "metadata": {},
   "outputs": [],
   "source": [
    "class PatchDataset(Dataset):\n",
    "    def __init__(self, original_dir, filtered_dir, patch_size=3):\n",
    "        \"\"\"\n",
    "        original_dir: Orijinal resimlerin bulunduğu klasör (ör. 'imgs')\n",
    "        filtered_dir: Filtrelenmiş resimlerin bulunduğu klasör (ör. 'filtered_imgs')\n",
    "        patch_size: Kullanılacak patch boyutu (3x3 için 3)\n",
    "        \"\"\"\n",
    "        self.original_dir = original_dir\n",
    "        self.filtered_dir = filtered_dir\n",
    "        self.patch_size = patch_size\n",
    "        \n",
    "        # Dosyaları isim sırasına göre alıyoruz (jpeg/jpg ve png uzantıları için)\n",
    "        self.original_files = sorted([os.path.join(original_dir, f) for f in os.listdir(original_dir)\n",
    "                                        if f.lower().endswith(('.jpg', '.jpeg'))])\n",
    "        self.filtered_files = sorted([os.path.join(filtered_dir, f) for f in os.listdir(filtered_dir)\n",
    "                                        if f.lower().endswith(('.png', '.jpg', '.jpeg'))])\n",
    "        \n",
    "        assert len(self.original_files) == len(self.filtered_files), \"Orijinal ve filtrelenmiş resim sayıları uyuşmuyor.\"\n",
    "        \n",
    "        # Her resim için patch çıkarılabilecek merkezi piksel konumlarını hesaplıyoruz\n",
    "        self.patch_indices = []\n",
    "        for i, orig_file in enumerate(self.original_files):\n",
    "            img = cv2.imread(orig_file, cv2.IMREAD_GRAYSCALE)\n",
    "            h, w = img.shape\n",
    "            # Kenar pikselleri hariç bırakılıyor (3x3 patch için)\n",
    "            for r in range(1, h - 1):\n",
    "                for c in range(1, w - 1):\n",
    "                    self.patch_indices.append((i, r, c))\n",
    "    \n",
    "    def __len__(self):\n",
    "        return len(self.patch_indices)\n",
    "    \n",
    "    def __getitem__(self, idx):\n",
    "        image_idx, r, c = self.patch_indices[idx]\n",
    "        orig_path = self.original_files[image_idx]\n",
    "        filt_path = self.filtered_files[image_idx]\n",
    "        \n",
    "        # Gri tonlamalı resimleri okuyun\n",
    "        orig_img = cv2.imread(orig_path, cv2.IMREAD_GRAYSCALE)\n",
    "        filt_img = cv2.imread(filt_path, cv2.IMREAD_GRAYSCALE)\n",
    "        \n",
    "        # Piksel değerlerini [-1, +1] aralığına normalize edin\n",
    "        orig_img = orig_img.astype(np.float32) / 127.5 - 1.0\n",
    "        filt_img = filt_img.astype(np.float32) / 127.5 - 1.0\n",
    "        \n",
    "        half = self.patch_size // 2\n",
    "        # 3x3 patch'i orijinal resimden çıkarın (merkez (r, c))\n",
    "        patch = orig_img[r - half: r + half + 1, c - half: c + half + 1]\n",
    "        patch = patch.flatten()  # 9 elemanlı vektör\n",
    "        \n",
    "        # Hedef: filtrelenmiş resimdeki aynı konumdaki merkezi piksel\n",
    "        target = filt_img[r, c]\n",
    "        \n",
    "        # Torch tensorlerine dönüştürün\n",
    "        patch_tensor = torch.from_numpy(patch).float()\n",
    "        target_tensor = torch.tensor(target).float()\n",
    "        \n",
    "        return patch_tensor, target_tensor"
   ]
  },
  {
   "cell_type": "code",
   "execution_count": 5,
   "metadata": {},
   "outputs": [
    {
     "name": "stdout",
     "output_type": "stream",
     "text": [
      "Dataset örnek sayısı: 645160\n",
      "Bir patch'in boyutu: torch.Size([9]) Hedef piksel değeri: 0.17647063732147217\n"
     ]
    }
   ],
   "source": [
    "# Dataset'i oluşturun\n",
    "dataset = PatchDataset('imgs', 'filtered_imgs', patch_size=3)\n",
    "print(\"Dataset örnek sayısı:\", len(dataset))\n",
    "sample_patch, sample_target = dataset[0]\n",
    "print(\"Bir patch'in boyutu:\", sample_patch.shape, \"Hedef piksel değeri:\", sample_target.item())\n"
   ]
  },
  {
   "cell_type": "code",
   "execution_count": 6,
   "metadata": {},
   "outputs": [],
   "source": [
    "import torch\n",
    "import torch.nn as nn\n",
    "import torch.optim as optim\n",
    "from torch.utils.data import DataLoader"
   ]
  },
  {
   "cell_type": "code",
   "execution_count": null,
   "metadata": {},
   "outputs": [],
   "source": [
    "device = torch.device('cuda' if torch.cuda.is_available() else 'cpu')\n",
    "print(\"Kullanılan cihaz:\", device)"
   ]
  },
  {
   "cell_type": "code",
   "execution_count": null,
   "metadata": {},
   "outputs": [],
   "source": [
    "# Model tanımı: Feedforward ANN\n",
    "class FFANN(nn.Module):\n",
    "    def __init__(self):\n",
    "        super(FFANN, self).__init__()\n",
    "        self.fc1 = nn.Linear(9, 21)\n",
    "        self.fc2 = nn.Linear(21, 17)\n",
    "        self.fc3 = nn.Linear(17, 13)\n",
    "        self.fc4 = nn.Linear(13, 9)\n",
    "        self.fc5 = nn.Linear(9, 1)\n",
    "        self.tanh = nn.Tanh()\n",
    "        \n",
    "    def forward(self, x):\n",
    "        x = self.tanh(self.fc1(x))\n",
    "        x = self.tanh(self.fc2(x))\n",
    "        x = self.tanh(self.fc3(x))\n",
    "        x = self.tanh(self.fc4(x))\n",
    "        x = self.tanh(self.fc5(x))\n",
    "        return x\n",
    "\n",
    "# Dataset'iniz zaten oluşturulduğuna göre DataLoader ile verileri gruplayın:\n",
    "dataloader = DataLoader(dataset, batch_size=256, shuffle=True)\n",
    "\n",
    "# Model, kayıp fonksiyonu ve optimizörü tanımlayın\n",
    "model = FFANN().to(device)\n",
    "criterion = nn.MSELoss()\n",
    "optimizer = optim.SGD(model.parameters(), lr=0.01)"
   ]
  },
  {
   "cell_type": "code",
   "execution_count": null,
   "metadata": {},
   "outputs": [
    {
     "name": "stdout",
     "output_type": "stream",
     "text": [
      "Epoch 1, Batch 100, Loss: 0.1357\n",
      "Epoch 1, Batch 200, Loss: 0.1059\n",
      "Epoch 1, Batch 300, Loss: 0.1077\n",
      "Epoch 1, Batch 400, Loss: 0.1071\n",
      "Epoch 1, Batch 500, Loss: 0.1077\n",
      "Epoch 1, Batch 600, Loss: 0.1076\n",
      "Epoch 1, Batch 700, Loss: 0.1066\n",
      "Epoch 1, Batch 800, Loss: 0.1059\n",
      "Epoch 1, Batch 900, Loss: 0.1047\n",
      "Epoch 1, Batch 1000, Loss: 0.1049\n",
      "Epoch 1, Batch 1100, Loss: 0.1043\n",
      "Epoch 1, Batch 1200, Loss: 0.1050\n",
      "Epoch 1, Batch 1300, Loss: 0.1058\n",
      "Epoch 1, Batch 1400, Loss: 0.1028\n",
      "Epoch 1, Batch 1500, Loss: 0.1013\n",
      "Epoch 1, Batch 1600, Loss: 0.1018\n",
      "Epoch 1, Batch 1700, Loss: 0.1028\n",
      "Epoch 1, Batch 1800, Loss: 0.1003\n",
      "Epoch 1, Batch 1900, Loss: 0.0963\n",
      "Epoch 1, Batch 2000, Loss: 0.0975\n",
      "Epoch 1, Batch 2100, Loss: 0.0940\n",
      "Epoch 1, Batch 2200, Loss: 0.0927\n",
      "Epoch 1, Batch 2300, Loss: 0.0878\n",
      "Epoch 1, Batch 2400, Loss: 0.0840\n",
      "Epoch 1, Batch 2500, Loss: 0.0825\n",
      "Epoch 2, Batch 100, Loss: 0.0784\n",
      "Epoch 2, Batch 200, Loss: 0.0702\n"
     ]
    },
    {
     "ename": "KeyboardInterrupt",
     "evalue": "",
     "output_type": "error",
     "traceback": [
      "\u001b[1;31m---------------------------------------------------------------------------\u001b[0m",
      "\u001b[1;31mKeyboardInterrupt\u001b[0m                         Traceback (most recent call last)",
      "Cell \u001b[1;32mIn[8], line 5\u001b[0m\n\u001b[0;32m      3\u001b[0m \u001b[38;5;28;01mfor\u001b[39;00m epoch \u001b[38;5;129;01min\u001b[39;00m \u001b[38;5;28mrange\u001b[39m(num_epochs):\n\u001b[0;32m      4\u001b[0m     running_loss \u001b[38;5;241m=\u001b[39m \u001b[38;5;241m0.0\u001b[39m\n\u001b[1;32m----> 5\u001b[0m \u001b[43m    \u001b[49m\u001b[38;5;28;43;01mfor\u001b[39;49;00m\u001b[43m \u001b[49m\u001b[43mi\u001b[49m\u001b[43m,\u001b[49m\u001b[43m \u001b[49m\u001b[43m(\u001b[49m\u001b[43minputs\u001b[49m\u001b[43m,\u001b[49m\u001b[43m \u001b[49m\u001b[43mtargets\u001b[49m\u001b[43m)\u001b[49m\u001b[43m \u001b[49m\u001b[38;5;129;43;01min\u001b[39;49;00m\u001b[43m \u001b[49m\u001b[38;5;28;43menumerate\u001b[39;49m\u001b[43m(\u001b[49m\u001b[43mdataloader\u001b[49m\u001b[43m)\u001b[49m\u001b[43m:\u001b[49m\n\u001b[0;32m      6\u001b[0m \u001b[43m        \u001b[49m\u001b[43moptimizer\u001b[49m\u001b[38;5;241;43m.\u001b[39;49m\u001b[43mzero_grad\u001b[49m\u001b[43m(\u001b[49m\u001b[43m)\u001b[49m\u001b[43m         \u001b[49m\u001b[38;5;66;43;03m# Gradients'i sıfırla\u001b[39;49;00m\n\u001b[0;32m      7\u001b[0m \u001b[43m        \u001b[49m\u001b[43moutputs\u001b[49m\u001b[43m \u001b[49m\u001b[38;5;241;43m=\u001b[39;49m\u001b[43m \u001b[49m\u001b[43mmodel\u001b[49m\u001b[43m(\u001b[49m\u001b[43minputs\u001b[49m\u001b[43m)\u001b[49m\u001b[43m         \u001b[49m\u001b[38;5;66;43;03m# İleri besleme\u001b[39;49;00m\n",
      "File \u001b[1;32mc:\\Users\\Administrator\\AppData\\Local\\Programs\\Python\\Python311\\Lib\\site-packages\\torch\\utils\\data\\dataloader.py:708\u001b[0m, in \u001b[0;36m_BaseDataLoaderIter.__next__\u001b[1;34m(self)\u001b[0m\n\u001b[0;32m    705\u001b[0m \u001b[38;5;28;01mif\u001b[39;00m \u001b[38;5;28mself\u001b[39m\u001b[38;5;241m.\u001b[39m_sampler_iter \u001b[38;5;129;01mis\u001b[39;00m \u001b[38;5;28;01mNone\u001b[39;00m:\n\u001b[0;32m    706\u001b[0m     \u001b[38;5;66;03m# TODO(https://github.com/pytorch/pytorch/issues/76750)\u001b[39;00m\n\u001b[0;32m    707\u001b[0m     \u001b[38;5;28mself\u001b[39m\u001b[38;5;241m.\u001b[39m_reset()  \u001b[38;5;66;03m# type: ignore[call-arg]\u001b[39;00m\n\u001b[1;32m--> 708\u001b[0m data \u001b[38;5;241m=\u001b[39m \u001b[38;5;28;43mself\u001b[39;49m\u001b[38;5;241;43m.\u001b[39;49m\u001b[43m_next_data\u001b[49m\u001b[43m(\u001b[49m\u001b[43m)\u001b[49m\n\u001b[0;32m    709\u001b[0m \u001b[38;5;28mself\u001b[39m\u001b[38;5;241m.\u001b[39m_num_yielded \u001b[38;5;241m+\u001b[39m\u001b[38;5;241m=\u001b[39m \u001b[38;5;241m1\u001b[39m\n\u001b[0;32m    710\u001b[0m \u001b[38;5;28;01mif\u001b[39;00m (\n\u001b[0;32m    711\u001b[0m     \u001b[38;5;28mself\u001b[39m\u001b[38;5;241m.\u001b[39m_dataset_kind \u001b[38;5;241m==\u001b[39m _DatasetKind\u001b[38;5;241m.\u001b[39mIterable\n\u001b[0;32m    712\u001b[0m     \u001b[38;5;129;01mand\u001b[39;00m \u001b[38;5;28mself\u001b[39m\u001b[38;5;241m.\u001b[39m_IterableDataset_len_called \u001b[38;5;129;01mis\u001b[39;00m \u001b[38;5;129;01mnot\u001b[39;00m \u001b[38;5;28;01mNone\u001b[39;00m\n\u001b[0;32m    713\u001b[0m     \u001b[38;5;129;01mand\u001b[39;00m \u001b[38;5;28mself\u001b[39m\u001b[38;5;241m.\u001b[39m_num_yielded \u001b[38;5;241m>\u001b[39m \u001b[38;5;28mself\u001b[39m\u001b[38;5;241m.\u001b[39m_IterableDataset_len_called\n\u001b[0;32m    714\u001b[0m ):\n",
      "File \u001b[1;32mc:\\Users\\Administrator\\AppData\\Local\\Programs\\Python\\Python311\\Lib\\site-packages\\torch\\utils\\data\\dataloader.py:764\u001b[0m, in \u001b[0;36m_SingleProcessDataLoaderIter._next_data\u001b[1;34m(self)\u001b[0m\n\u001b[0;32m    762\u001b[0m \u001b[38;5;28;01mdef\u001b[39;00m\u001b[38;5;250m \u001b[39m\u001b[38;5;21m_next_data\u001b[39m(\u001b[38;5;28mself\u001b[39m):\n\u001b[0;32m    763\u001b[0m     index \u001b[38;5;241m=\u001b[39m \u001b[38;5;28mself\u001b[39m\u001b[38;5;241m.\u001b[39m_next_index()  \u001b[38;5;66;03m# may raise StopIteration\u001b[39;00m\n\u001b[1;32m--> 764\u001b[0m     data \u001b[38;5;241m=\u001b[39m \u001b[38;5;28;43mself\u001b[39;49m\u001b[38;5;241;43m.\u001b[39;49m\u001b[43m_dataset_fetcher\u001b[49m\u001b[38;5;241;43m.\u001b[39;49m\u001b[43mfetch\u001b[49m\u001b[43m(\u001b[49m\u001b[43mindex\u001b[49m\u001b[43m)\u001b[49m  \u001b[38;5;66;03m# may raise StopIteration\u001b[39;00m\n\u001b[0;32m    765\u001b[0m     \u001b[38;5;28;01mif\u001b[39;00m \u001b[38;5;28mself\u001b[39m\u001b[38;5;241m.\u001b[39m_pin_memory:\n\u001b[0;32m    766\u001b[0m         data \u001b[38;5;241m=\u001b[39m _utils\u001b[38;5;241m.\u001b[39mpin_memory\u001b[38;5;241m.\u001b[39mpin_memory(data, \u001b[38;5;28mself\u001b[39m\u001b[38;5;241m.\u001b[39m_pin_memory_device)\n",
      "File \u001b[1;32mc:\\Users\\Administrator\\AppData\\Local\\Programs\\Python\\Python311\\Lib\\site-packages\\torch\\utils\\data\\_utils\\fetch.py:52\u001b[0m, in \u001b[0;36m_MapDatasetFetcher.fetch\u001b[1;34m(self, possibly_batched_index)\u001b[0m\n\u001b[0;32m     50\u001b[0m         data \u001b[38;5;241m=\u001b[39m \u001b[38;5;28mself\u001b[39m\u001b[38;5;241m.\u001b[39mdataset\u001b[38;5;241m.\u001b[39m__getitems__(possibly_batched_index)\n\u001b[0;32m     51\u001b[0m     \u001b[38;5;28;01melse\u001b[39;00m:\n\u001b[1;32m---> 52\u001b[0m         data \u001b[38;5;241m=\u001b[39m \u001b[43m[\u001b[49m\u001b[38;5;28;43mself\u001b[39;49m\u001b[38;5;241;43m.\u001b[39;49m\u001b[43mdataset\u001b[49m\u001b[43m[\u001b[49m\u001b[43midx\u001b[49m\u001b[43m]\u001b[49m\u001b[43m \u001b[49m\u001b[38;5;28;43;01mfor\u001b[39;49;00m\u001b[43m \u001b[49m\u001b[43midx\u001b[49m\u001b[43m \u001b[49m\u001b[38;5;129;43;01min\u001b[39;49;00m\u001b[43m \u001b[49m\u001b[43mpossibly_batched_index\u001b[49m\u001b[43m]\u001b[49m\n\u001b[0;32m     53\u001b[0m \u001b[38;5;28;01melse\u001b[39;00m:\n\u001b[0;32m     54\u001b[0m     data \u001b[38;5;241m=\u001b[39m \u001b[38;5;28mself\u001b[39m\u001b[38;5;241m.\u001b[39mdataset[possibly_batched_index]\n",
      "File \u001b[1;32mc:\\Users\\Administrator\\AppData\\Local\\Programs\\Python\\Python311\\Lib\\site-packages\\torch\\utils\\data\\_utils\\fetch.py:52\u001b[0m, in \u001b[0;36m<listcomp>\u001b[1;34m(.0)\u001b[0m\n\u001b[0;32m     50\u001b[0m         data \u001b[38;5;241m=\u001b[39m \u001b[38;5;28mself\u001b[39m\u001b[38;5;241m.\u001b[39mdataset\u001b[38;5;241m.\u001b[39m__getitems__(possibly_batched_index)\n\u001b[0;32m     51\u001b[0m     \u001b[38;5;28;01melse\u001b[39;00m:\n\u001b[1;32m---> 52\u001b[0m         data \u001b[38;5;241m=\u001b[39m [\u001b[38;5;28;43mself\u001b[39;49m\u001b[38;5;241;43m.\u001b[39;49m\u001b[43mdataset\u001b[49m\u001b[43m[\u001b[49m\u001b[43midx\u001b[49m\u001b[43m]\u001b[49m \u001b[38;5;28;01mfor\u001b[39;00m idx \u001b[38;5;129;01min\u001b[39;00m possibly_batched_index]\n\u001b[0;32m     53\u001b[0m \u001b[38;5;28;01melse\u001b[39;00m:\n\u001b[0;32m     54\u001b[0m     data \u001b[38;5;241m=\u001b[39m \u001b[38;5;28mself\u001b[39m\u001b[38;5;241m.\u001b[39mdataset[possibly_batched_index]\n",
      "Cell \u001b[1;32mIn[4], line 40\u001b[0m, in \u001b[0;36mPatchDataset.__getitem__\u001b[1;34m(self, idx)\u001b[0m\n\u001b[0;32m     38\u001b[0m \u001b[38;5;66;03m# Gri tonlamalı resimleri okuyun\u001b[39;00m\n\u001b[0;32m     39\u001b[0m orig_img \u001b[38;5;241m=\u001b[39m cv2\u001b[38;5;241m.\u001b[39mimread(orig_path, cv2\u001b[38;5;241m.\u001b[39mIMREAD_GRAYSCALE)\n\u001b[1;32m---> 40\u001b[0m filt_img \u001b[38;5;241m=\u001b[39m \u001b[43mcv2\u001b[49m\u001b[38;5;241;43m.\u001b[39;49m\u001b[43mimread\u001b[49m\u001b[43m(\u001b[49m\u001b[43mfilt_path\u001b[49m\u001b[43m,\u001b[49m\u001b[43m \u001b[49m\u001b[43mcv2\u001b[49m\u001b[38;5;241;43m.\u001b[39;49m\u001b[43mIMREAD_GRAYSCALE\u001b[49m\u001b[43m)\u001b[49m\n\u001b[0;32m     42\u001b[0m \u001b[38;5;66;03m# Piksel değerlerini [-1, +1] aralığına normalize edin\u001b[39;00m\n\u001b[0;32m     43\u001b[0m orig_img \u001b[38;5;241m=\u001b[39m orig_img\u001b[38;5;241m.\u001b[39mastype(np\u001b[38;5;241m.\u001b[39mfloat32) \u001b[38;5;241m/\u001b[39m \u001b[38;5;241m127.5\u001b[39m \u001b[38;5;241m-\u001b[39m \u001b[38;5;241m1.0\u001b[39m\n",
      "\u001b[1;31mKeyboardInterrupt\u001b[0m: "
     ]
    }
   ],
   "source": [
    "# Eğitim döngüsü\n",
    "num_epochs = 10  # İhtiyaç duyduğunuz kadar epoch ile deneyebilirsiniz\n",
    "for epoch in range(num_epochs):\n",
    "    running_loss = 0.0\n",
    "    for i, (inputs, targets) in enumerate(dataloader):\n",
    "        inputs = inputs.to(device)\n",
    "        targets = targets.to(device)\n",
    "        optimizer.zero_grad()         # Gradients'i sıfırla\n",
    "        outputs = model(inputs)         # İleri besleme\n",
    "        loss = criterion(outputs.squeeze(), targets)\n",
    "        loss.backward()                 # Geri yayılım\n",
    "        optimizer.step()                # Ağırlıkları güncelle\n",
    "        \n",
    "        running_loss += loss.item()\n",
    "        if (i+1) % 100 == 0:\n",
    "            print(f\"Epoch {epoch+1}, Batch {i+1}, Loss: {running_loss/100:.4f}\")\n",
    "            running_loss = 0.0\n",
    "\n",
    "print(\"Eğitim tamamlandı!\")"
   ]
  }
 ],
 "metadata": {
  "kernelspec": {
   "display_name": "Python 3",
   "language": "python",
   "name": "python3"
  },
  "language_info": {
   "codemirror_mode": {
    "name": "ipython",
    "version": 3
   },
   "file_extension": ".py",
   "mimetype": "text/x-python",
   "name": "python",
   "nbconvert_exporter": "python",
   "pygments_lexer": "ipython3",
   "version": "3.11.6"
  }
 },
 "nbformat": 4,
 "nbformat_minor": 2
}
